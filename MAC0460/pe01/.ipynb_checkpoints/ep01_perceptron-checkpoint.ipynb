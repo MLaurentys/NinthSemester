{
 "cells": [
  {
   "cell_type": "markdown",
   "metadata": {},
   "source": [
    "# MAC0460/MAC5832 (2020)\n",
    "## EP1 -- Perceptron: toy example\n",
    "\n",
    "Seja um conjunto de treinamento $X = \\{ (\\mathbf{x}^{(1)},y^{(1)}), (\\mathbf{x}^{(2)},y^{(2)}), \\ldots, (\\mathbf{x}^{(N)},y^{(N)})\\}$, $\\mathbf{x}^{(i)} \\in \\mathbb{R}^d$ e $y^{(i)} \\in \\{-1, +1\\}$, $i=1,2,\\ldots,N$, linearmente separáveis. Dado $\\mathbf{x} = (x_1, \\ldots, x_d)  \\in \\mathbb{R}^d$, seja $\\tilde{\\mathbf{x}} = (1, x_1, \\ldots, x_d) \\in \\mathbb{R}^{1+d}$.\n",
    "\n",
    "O perceptron determina um vetor de pesos $\\mathbf{w} \\in \\mathbb{R}^{1+d}$ de tal forma que $\\mathrm{sign}(\\mathbf{w}^T \\tilde{\\mathbf{x}}^{(i)}) = y^{(i)}$, $\\forall i$, na qual \n",
    "$$\n",
    "sign(z) = \\left\\{\\begin{array}{ll}+1, & \\mbox{se $z \\geq 0$,}\\\\ -1, & \\mbox{se $z < 0$.}\\\\\n",
    "\\end{array}\\right.\n",
    "$$\n",
    "\n",
    "O objetivo deste EP é implementar o algoritmo perceptron para dados em $\\mathbb{R}^2$ e testá-lo em casos com poucos exemplos. \n"
   ]
  },
  {
   "cell_type": "markdown",
   "metadata": {},
   "source": [
    "### 1. Gerar os pontos e uma target function\n",
    "- o dataset consistirá de alguns ($N$) pontos definidos a mão. Alungs desses pontos serão os vértices do quadrado $[0,1]\\times[0,1]$\n",
    "- definiremos uma reta $f(x_1,x_2) = w_0 + w_1\\,x_1 + w_2\\,x_2$ que corta o quadrado $[0,1]\\times [0,1]$\n",
    "- aqui vamos plotar esses pontos de tal forma que os pontos $(x_1,x_2)$ tais que $f(x_1,x_2) \\geq 0$ (<font color=\"blue\">positivo</font>) são plotados em <font color=\"blue\">azul</font> e os pontos $(x_1,x_2)$ tais que $f(x_1,x_2) < 0$ (<font color=\"red\">negativo</font>) são plotados em <font color=\"red\">vermelho</font>\n",
    "- a classe de cada um dos $N$ pontos será portanto dado pelo sinal de $f$ "
   ]
  },
  {
   "cell_type": "code",
   "execution_count": 1,
   "metadata": {},
   "outputs": [
    {
     "name": "stdout",
     "output_type": "stream",
     "text": [
      "Shape of array X:  (5, 2)\n",
      "Number of examples:  5\n",
      "Shape of array Xe:  (5, 3)\n",
      "Target weight array:  [ 0.5 -1.   1. ]\n",
      "Shape of array y:  (5,)\n",
      "['red', 'blue', 'blue', 'red', 'blue']\n"
     ]
    },
    {
     "data": {
      "image/png": "[encoded data removed]",
      "text/plain": [
       "<Figure size 432x288 with 1 Axes>"
      ]
     },
     "metadata": {
      "needs_background": "light"
     },
     "output_type": "display_data"
    }
   ],
   "source": [
    "import numpy as np\n",
    "import matplotlib.pyplot as plt\n",
    "%matplotlib inline\n",
    "\n",
    "X = np.asarray([[1.3, -0.2],[0,0],[0,1],[1,0],[1,1]])\n",
    "print(\"Shape of array X: \", X.shape)\n",
    "N = X.shape[0]\n",
    "print(\"Number of examples: \", N)\n",
    "\n",
    "# add a left column with 1's into X -- X extended\n",
    "Xe = np.hstack(( np.ones((X.shape[0],1)), X ) )\n",
    "print(\"Shape of array Xe: \", Xe.shape)\n",
    "\n",
    "# define a target weight vector\n",
    "w_target = np.asarray([0.5, -1, 1])\n",
    "print(\"Target weight array: \", w_target)\n",
    "\n",
    "# define y (class) values, based on the line defined by the target weight vector\n",
    "y = np.sign(np.dot(Xe, w_target))\n",
    "print(\"Shape of array y: \", y.shape)\n",
    "\n",
    "# Plotting ...\n",
    "\n",
    "# plot the line\n",
    "a = -w_target[1] / w_target[2] # slope  -- we will have trouble if w_target[2]=0 ...\n",
    "b = -w_target[0] / w_target[2] # intercept\n",
    "x_l = np.linspace(-1, 2, 50)\n",
    "y_l = a*x_l + b\n",
    "plt.plot(x_l, y_l);\n",
    "\n",
    "# Determine the colors of each of the examples\n",
    "colors = [\"blue\" if y[i]==1 else \"red\" for i in range(N)]\n",
    "print(colors)\n",
    "\n",
    "# plot the examples\n",
    "plt.scatter(X[:,0],X[:,1],c=colors);\n",
    "\n"
   ]
  },
  {
   "cell_type": "markdown",
   "metadata": {},
   "source": [
    "### Chutar uma hipótese inicial\n",
    "\n",
    "Aqui iremos considerar um peso inicial para a função linear que sabidamente não é a função target e iremos plotar um gráfico dos exemplos com a seguinte convenção:\n",
    "\n",
    "Cor indica o <i>ground-truth</i> (definido pela função target acima): <font color=\"blue\">positivo</font> e <font color=\"red\">negativo</font>  \n",
    "Formato do marcador:\n",
    "- o : classificados corretamente pela hipótese<br>\n",
    "- x : classificados incorretamente pela hipótese<br>\n"
   ]
  },
  {
   "cell_type": "code",
   "execution_count": null,
   "metadata": {},
   "outputs": [],
   "source": [
    "# Dada uma hipótese qualquer, se o sinal coincidir com o original,\n",
    "# desenha-se bola, se não coincidir, desenha-se x. A cor identifica\n",
    "# a classificação correta (ground-truth)\n",
    "\n",
    "# vetor de pesos inicial\n",
    "w0 = np.asarray([-0.5, 1 , 1])\n",
    "\n",
    "# calcular yhat\n",
    "yhat = np.sign(np.dot(Xe,w0))\n",
    "\n",
    "# misclassifications\n",
    "misclassified = np.where(y != yhat)[0]\n",
    "correct = np.where(y == yhat)[0]\n",
    "\n",
    "colors_o = [\"blue\" if y[i]==1 else \"red\" for i in correct]\n",
    "colors_x = [\"blue\" if y[i]==1 else \"red\" for i in misclassified]\n",
    "\n",
    "\n",
    "# plotting\n",
    "a = -w0[1] / w0[2] # slope\n",
    "b = -w0[0] / w0[2] # intercept\n",
    "x_l = np.linspace(-1, 2, 50)\n",
    "y_l = a*x_l + b\n",
    "plt.plot(x_l, y_l);\n",
    "\n",
    "plt.scatter(X[correct,0],X[correct,1],c=colors_o, marker='o');\n",
    "plt.scatter(X[misclassified,0],X[misclassified,1],c=colors_x, marker='x');\n",
    "\n"
   ]
  },
  {
   "cell_type": "markdown",
   "metadata": {},
   "source": [
    "# O algoritmo perceptron\n",
    "\n",
    "Escreva abaixo o seu código para o algoritmo PERCEPTRON. \n",
    "\n",
    "Escreva a função e em seguida teste a função com os dados X, y e w0 definidos nos blocos acima.  Faça ao menos um plot do resultado final (pontos e a reta final) seguindo as cores e marcas (x, o) de acordo com a convenção acima.\n",
    "\n",
    "<b>Opcional</b>: faça uma animação, mostrando como a reta vai mudando ao longo das iterações."
   ]
  },
  {
   "cell_type": "code",
   "execution_count": null,
   "metadata": {},
   "outputs": [],
   "source": [
    "def perceptron(Xe,y,w0):\n",
    "    \"\"\"\n",
    "    Parameters:\n",
    "       Xe : ndarray (N,d+1) - it already has the 1's in column 1\n",
    "       y  : ndarray (N,)\n",
    "       w0 : ndarray (d+1,) - the initial weight vector\n",
    "       \n",
    "    Returns:\n",
    "       w : ndarray (d+1,) - the final weight vector\n",
    "    \"\"\"\n",
    "    \n",
    "    # write your PERCEPTRON algorithm code here\n",
    "    \n",
    "    \n",
    "# test your function for w0, X and y as defined above\n",
    "# Print the final weight vector and plot both the examples and\n",
    "# the separating line\n",
    "\n"
   ]
  },
  {
   "cell_type": "markdown",
   "metadata": {},
   "source": [
    "# O que mais poderia ser feito ?\n",
    "\n",
    "0. Alterar o número de pontos e/ou vetor de pesos inicial no exemplo acima e testar o código.\n",
    "1. Alterar o código para funcionar para dados de dimensão $d$ arbitrária\n",
    "2. Alterar o código para que o vetor de pesos inicial seja definida aleatoriamente\n",
    "3. Geral os exemplos $\\mathbf{x}$ de forma aleatória (talvez 2 blobs de pontos?)\n",
    "4. Alterar o código para implementar a versão POCKET, para dar conta dos casos não linearmente separáveis"
   ]
  }
 ],
 "metadata": {
  "kernelspec": {
   "display_name": "Python 3",
   "language": "python",
   "name": "python3"
  },
  "language_info": {
   "codemirror_mode": {
    "name": "ipython",
    "version": 3
   },
   "file_extension": ".py",
   "mimetype": "text/x-python",
   "name": "python",
   "nbconvert_exporter": "python",
   "pygments_lexer": "ipython3",
   "version": "3.6.9"
  }
 },
 "nbformat": 4,
 "nbformat_minor": 2
}
