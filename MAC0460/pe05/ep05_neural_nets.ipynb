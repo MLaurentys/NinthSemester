{
 "cells": [
  {
   "cell_type": "markdown",
   "metadata": {},
   "source": [
    "# MAC0460 / MAC5832 (2020)\n",
    "<hr>\n",
    "\n",
    "## EP5: Neural Networks"
   ]
  },
  {
   "cell_type": "markdown",
   "metadata": {},
   "source": [
    "# 0. Using code/concepts/data from pe04"
   ]
  },
  {
   "cell_type": "code",
   "execution_count": 17,
   "metadata": {},
   "outputs": [],
   "source": [
    "# Util functions\n",
    "def add_feature_ones(X):\n",
    "    return np.concatenate((np.ones((X.shape[0], 1)), X), axis=1)\n"
   ]
  },
  {
   "cell_type": "markdown",
   "metadata": {},
   "source": [
    "# 1. MNIST Dataset and Treating Data#\n",
    "\n",
    "The dataset acquisition process and basic treating algorithms have been inherited from PE04."
   ]
  },
  {
   "cell_type": "code",
   "execution_count": 21,
   "metadata": {},
   "outputs": [],
   "source": [
    "from tensorflow.keras.datasets import mnist\n",
    "\n",
    "def print_data_info(name, data):\n",
    "    print(name)\n",
    "    print('dtype: %s' % type(data))\n",
    "    print('shape:', data.shape)\n",
    "    print('min val:', data.min())\n",
    "    print('max val:', data.max())\n",
    "    \n",
    "def to_features (data):\n",
    "    return [np.concatenate([row for row in sample]) for sample in data]\n",
    "\n",
    "np.random.seed(56789)\n",
    "def shuffle(X, y):\n",
    "    # input and output must be shuffled equally\n",
    "    perm = np.random.permutation(len(X))\n",
    "    return X[perm], y[perm]"
   ]
  },
  {
   "cell_type": "code",
   "execution_count": 22,
   "metadata": {},
   "outputs": [],
   "source": [
    "(X_train_all, y_train_all), (X_test_all, y_test_all) = mnist.load_data()"
   ]
  },
  {
   "cell_type": "markdown",
   "metadata": {},
   "source": [
    "### Make features, select amount of samples and fix types"
   ]
  },
  {
   "cell_type": "code",
   "execution_count": 49,
   "metadata": {},
   "outputs": [
    {
     "name": "stdout",
     "output_type": "stream",
     "text": [
      "X_train\n",
      "dtype: <class 'numpy.ndarray'>\n",
      "shape: (20000, 784)\n",
      "min val: 0.0\n",
      "max val: 1.0\n",
      "y_train\n",
      "dtype: <class 'numpy.ndarray'>\n",
      "shape: (20000,)\n",
      "min val: 0\n",
      "max val: 9\n",
      "X_test\n",
      "dtype: <class 'numpy.ndarray'>\n",
      "shape: (10000, 784)\n",
      "min val: 0.0\n",
      "max val: 1.0\n",
      "y_test\n",
      "dtype: <class 'numpy.ndarray'>\n",
      "shape: (10000,)\n",
      "min val: 0\n",
      "max val: 9\n"
     ]
    }
   ],
   "source": [
    "X_train_classes = []\n",
    "y_train_classes = []\n",
    "min_intensity = X_train_all.min()\n",
    "max_intensity = X_train_all.max()\n",
    "normalizer = lambda feat: (feat-min_intensity)/(max_intensity-min_intensity)\n",
    "class_size = 2000\n",
    "classes = [i for i in range(0,10)]\n",
    "\n",
    "# prepare train data according to prompt\n",
    "for i in classes:\n",
    "    Xc = X_train_all[y_train_all == i]\n",
    "    Yc = y_train_all[y_train_all == i]\n",
    "    Xc = to_features(Xc[:class_size])\n",
    "    Xc = np.array([(sample-min_intensity)/(max_intensity-min_intensity) for sample in Xc])\n",
    "    Yc = Yc[:class_size]\n",
    "    X_train_classes.append(Xc)\n",
    "    y_train_classes.append(Yc)\n",
    "\n",
    "# prepare test data according to prompt\n",
    "X_test = to_features(X_test_all)\n",
    "X_test = np.array([np.array([normalizer(feat) for feat in sample]) for sample in X_test])\n",
    "y_test = y_test_all\n",
    "\n",
    "X_train = np.concatenate([d_class for d_class in X_train_classes])\n",
    "y_train = np.concatenate([d_class for d_class in y_train_classes])\n",
    "\n",
    "X_test, y_test = shuffle(X_test, y_test)\n",
    "X_train, y_train= shuffle(X_train, y_train)\n",
    "\n",
    "print_data_info('X_train', X_train)\n",
    "print_data_info('y_train', y_train)\n",
    "print_data_info('X_test', X_test)\n",
    "print_data_info('y_test', y_test)"
   ]
  },
  {
   "cell_type": "markdown",
   "metadata": {},
   "source": [
    "# 2. Choosing a Model\n",
    "\n",
    "From the three models described, I went with the first one as it showed the best results in the k-fold tests."
   ]
  },
  {
   "cell_type": "code",
   "execution_count": 53,
   "metadata": {},
   "outputs": [],
   "source": [
    "def print_fold(y, train=None, alls=False):\n",
    "    class_count = {}\n",
    "    aset = train\n",
    "    if alls:\n",
    "        aset = [i for i in range(len(y))]\n",
    "    for i in aset:\n",
    "        if y[i] in class_count.keys():\n",
    "            class_count[y[i]] += 1\n",
    "        else:\n",
    "            class_count[y[i]] = 1\n",
    "    for k in class_count.keys():\n",
    "        print(\"{0}: {1}\".format(k, class_count[k]))"
   ]
  },
  {
   "cell_type": "code",
   "execution_count": 25,
   "metadata": {},
   "outputs": [],
   "source": [
    "from sklearn.neural_network import MLPClassifier\n",
    "from sklearn.model_selection import KFold\n",
    "\n",
    "# used to do 5-fold\n",
    "kf = KFold(5)"
   ]
  },
  {
   "cell_type": "markdown",
   "metadata": {},
   "source": [
    "### 1. Model from supplied [source](https://github.com/fchollet/deep-learning-with-python-notebooks/blob/master/2.1-a-first-look-at-a-neural-network.ipynb)"
   ]
  },
  {
   "cell_type": "code",
   "execution_count": 41,
   "metadata": {},
   "outputs": [],
   "source": [
    "# 'adam' and adaptative do, more or less, matche rmsprop used in the source\n",
    "# MLP uses cross-entroyp\n",
    "# It is not possible to have different actiation functions for different layers, \n",
    "#  so using default (unlike the souce)\n",
    "network1 = MLPClassifier(solver='adam', activation='relu',\n",
    "                         hidden_layer_sizes=(784, 512, 10),\n",
    "                         early_stopping=True)    "
   ]
  },
  {
   "cell_type": "markdown",
   "metadata": {},
   "source": [
    "### 2. Same model, but increasing number of layers and using logistic, instead of relu"
   ]
  },
  {
   "cell_type": "code",
   "execution_count": 42,
   "metadata": {},
   "outputs": [],
   "source": [
    "network2 = MLPClassifier(solver='adam', activation='logistic', \n",
    "                         hidden_layer_sizes=(784, 512, 128, 10),\n",
    "                         early_stopping=True)"
   ]
  },
  {
   "cell_type": "markdown",
   "metadata": {},
   "source": [
    "### 3. Different solver algorithm, but same number of layers"
   ]
  },
  {
   "cell_type": "code",
   "execution_count": 43,
   "metadata": {},
   "outputs": [],
   "source": [
    "network3 = MLPClassifier(solver='sgd', activation='relu', learning_rate='adaptive',\n",
    "                         hidden_layer_sizes=(784, 512, 10), early_stopping=True)"
   ]
  },
  {
   "cell_type": "markdown",
   "metadata": {},
   "source": [
    "#### Generates metrics"
   ]
  },
  {
   "cell_type": "code",
   "execution_count": 50,
   "metadata": {},
   "outputs": [
    {
     "name": "stdout",
     "output_type": "stream",
     "text": [
      "Fold 1\n",
      "8: 1612\n",
      "7: 1608\n",
      "9: 1596\n",
      "2: 1590\n",
      "5: 1599\n",
      "1: 1587\n",
      "3: 1607\n",
      "0: 1585\n",
      "6: 1623\n",
      "4: 1593\n",
      "Fold 2\n",
      "6: 1607\n",
      "0: 1609\n",
      "5: 1591\n",
      "8: 1581\n",
      "7: 1569\n",
      "1: 1583\n",
      "2: 1622\n",
      "3: 1581\n",
      "9: 1616\n",
      "4: 1641\n",
      "Fold 3\n",
      "6: 1590\n",
      "0: 1594\n",
      "5: 1621\n",
      "8: 1608\n",
      "7: 1597\n",
      "1: 1592\n",
      "2: 1608\n",
      "3: 1599\n",
      "9: 1605\n",
      "4: 1586\n",
      "Fold 4\n",
      "6: 1610\n",
      "0: 1611\n",
      "5: 1597\n",
      "8: 1593\n",
      "7: 1611\n",
      "1: 1602\n",
      "2: 1562\n",
      "3: 1605\n",
      "9: 1609\n",
      "4: 1600\n",
      "Fold 5\n",
      "6: 1570\n",
      "0: 1601\n",
      "5: 1592\n",
      "8: 1606\n",
      "7: 1615\n",
      "1: 1636\n",
      "2: 1618\n",
      "3: 1608\n",
      "9: 1574\n",
      "4: 1580\n"
     ]
    }
   ],
   "source": [
    "res = {\"NN 1\":[], \"NN 2\":[], \"NN 3\":[]}\n",
    "for i, (train, test) in enumerate(kf.split(X_train, y_train)):\n",
    "    print(\"Fold \" + str(i + 1))\n",
    "    print_fold(y_train, train)\n",
    "    network.fit(X_train[train], y_train[train])\n",
    "    network2.fit(X_train[train], y_train[train])\n",
    "    network3.fit(X_train[train], y_train[train])\n",
    "    res[\"NN 1\"].append(\"[fold {0}] score: {1:.5f}\".\n",
    "                      format(i, network.score(X_train[test], y_train[test])))\n",
    "    res[\"NN 2\"].append(\"[fold {0}] score: {1:.5f}\".\n",
    "                      format(i, network2.score(X_train[test], y_train[test])))\n",
    "    res[\"NN 3\"].append(\"[fold {0}] score: {1:.5f}\".\n",
    "                      format(i+1, network3.score(X_train[test], y_train[test])))"
   ]
  },
  {
   "cell_type": "code",
   "execution_count": 55,
   "metadata": {},
   "outputs": [
    {
     "name": "stdout",
     "output_type": "stream",
     "text": [
      "NN 1\n",
      "[fold 0] score: 0.97075\n",
      "[fold 1] score: 0.96675\n",
      "[fold 2] score: 0.96575\n",
      "[fold 3] score: 0.96675\n",
      "[fold 4] score: 0.96575\n",
      "NN 2\n",
      "[fold 0] score: 0.88650\n",
      "[fold 1] score: 0.95525\n",
      "[fold 2] score: 0.95525\n",
      "[fold 3] score: 0.96150\n",
      "[fold 4] score: 0.95675\n",
      "NN 3\n",
      "[fold 1] score: 0.95475\n",
      "[fold 2] score: 0.95675\n",
      "[fold 3] score: 0.94825\n",
      "[fold 4] score: 0.95700\n",
      "[fold 5] score: 0.95800\n"
     ]
    }
   ],
   "source": [
    "for k in res.keys():\n",
    "    print(\"%s\" % k)\n",
    "    for st in res[k]:\n",
    "        print(st)"
   ]
  },
  {
   "cell_type": "markdown",
   "metadata": {},
   "source": [
    "# Results with chosen method"
   ]
  },
  {
   "cell_type": "code",
   "execution_count": 85,
   "metadata": {},
   "outputs": [
    {
     "data": {
      "text/plain": [
       "<module 'matplotlib.pyplot' from '/usr/local/lib/python3.6/dist-packages/matplotlib/pyplot.py'>"
      ]
     },
     "execution_count": 85,
     "metadata": {},
     "output_type": "execute_result"
    }
   ],
   "source": [
    "import importlib\n",
    "import matplotlib.pyplot as plt\n",
    "importlib.reload(plt)"
   ]
  },
  {
   "cell_type": "code",
   "execution_count": 71,
   "metadata": {},
   "outputs": [
    {
     "name": "stdout",
     "output_type": "stream",
     "text": [
      "6: 2000\n",
      "0: 2000\n",
      "5: 2000\n",
      "8: 2000\n",
      "7: 2000\n",
      "1: 2000\n",
      "2: 2000\n",
      "3: 2000\n",
      "9: 2000\n",
      "4: 2000\n"
     ]
    },
    {
     "data": {
      "text/plain": [
       "MLPClassifier(activation='relu', alpha=0.0001, batch_size='auto', beta_1=0.9,\n",
       "              beta_2=0.999, early_stopping=False, epsilon=1e-08,\n",
       "              hidden_layer_sizes=(784, 512, 10), learning_rate='constant',\n",
       "              learning_rate_init=0.001, max_fun=15000, max_iter=200,\n",
       "              momentum=0.9, n_iter_no_change=10, nesterovs_momentum=True,\n",
       "              power_t=0.5, random_state=1, shuffle=True, solver='adam',\n",
       "              tol=0.0001, validation_fraction=0.1, verbose=False,\n",
       "              warm_start=False)"
      ]
     },
     "execution_count": 71,
     "metadata": {},
     "output_type": "execute_result"
    }
   ],
   "source": [
    "print_fold(y_train, alls=True)\n",
    "network.fit(X_train, y_train)"
   ]
  },
  {
   "cell_type": "code",
   "execution_count": 88,
   "metadata": {},
   "outputs": [
    {
     "name": "stdout",
     "output_type": "stream",
     "text": [
      "0.9754\n"
     ]
    },
    {
     "data": {
      "image/png": "[encoded data removed]",
      "text/plain": [
       "<Figure size 864x576 with 1 Axes>"
      ]
     },
     "metadata": {
      "needs_background": "light"
     },
     "output_type": "display_data"
    }
   ],
   "source": [
    "print (network.score(X_test,y_test))\n",
    "plt.figure(figsize = (12, 8))\n",
    "plt.plot(network.loss_curve_)\n",
    "plt.ylabel('Cross Entropy')\n",
    "plt.show()"
   ]
  },
  {
   "cell_type": "code",
   "execution_count": 90,
   "metadata": {},
   "outputs": [
    {
     "name": "stdout",
     "output_type": "stream",
     "text": [
      "Confusion Matrix\n",
      "\n",
      "[[ 964    1    0    2    1    0    2    0    6    4]\n",
      " [   1 1126    3    0    0    2    3    0    0    0]\n",
      " [   6    1 1007    3    1    0    0    6    7    1]\n",
      " [   0    1    5  980    0    4    0    7    8    5]\n",
      " [   0    0    1    1  955    0    9    2    3   11]\n",
      " [   2    0    1   10    1  866    3    1    4    4]\n",
      " [   4    3    1    1    3    2  940    0    4    0]\n",
      " [   0    7   12    1    2    0    1  990    3   12]\n",
      " [   4    0    3    2    4    7    3    3  945    3]\n",
      " [   4    2    0    5    8    0    0    6    3  981]]\n"
     ]
    }
   ],
   "source": [
    "from sklearn.metrics import confusion_matrix\n",
    "y_pred = network.predict(X_test)\n",
    "confusion = confusion_matrix(y_test, y_pred)\n",
    "print('Confusion Matrix\\n')\n",
    "print(confusion)"
   ]
  },
  {
   "cell_type": "code",
   "execution_count": 91,
   "metadata": {},
   "outputs": [],
   "source": [
    "# code from https://stackoverflow.com/questions/39033880/plot-confusion-matrix-sklearn-with-multiple-labels\n",
    "import itertools\n",
    "def plot_confusion_matrix(cm,\n",
    "                          target_names,\n",
    "                          title='Confusion matrix',\n",
    "                          cmap=None,\n",
    "                          normalize=True):\n",
    "    \"\"\"\n",
    "    given a sklearn confusion matrix (cm), make a nice plot\n",
    "\n",
    "    Arguments\n",
    "    ---------\n",
    "    cm:           confusion matrix from sklearn.metrics.confusion_matrix\n",
    "\n",
    "    target_names: given classification classes such as [0, 1, 2]\n",
    "                  the class names, for example: ['high', 'medium', 'low']\n",
    "\n",
    "    title:        the text to display at the top of the matrix\n",
    "\n",
    "    cmap:         the gradient of the values displayed from matplotlib.pyplot.cm\n",
    "                  see http://matplotlib.org/examples/color/colormaps_reference.html\n",
    "                  plt.get_cmap('jet') or plt.cm.Blues\n",
    "\n",
    "    normalize:    If False, plot the raw numbers\n",
    "                  If True, plot the proportions\n",
    "\n",
    "    Usage\n",
    "    -----\n",
    "    plot_confusion_matrix(cm           = cm,                  # confusion matrix created by\n",
    "                                                              # sklearn.metrics.confusion_matrix\n",
    "                          normalize    = True,                # show proportions\n",
    "                          target_names = y_labels_vals,       # list of names of the classes\n",
    "                          title        = best_estimator_name) # title of graph\n",
    "\n",
    "    Citiation\n",
    "    ---------\n",
    "    http://scikit-learn.org/stable/auto_examples/model_selection/plot_confusion_matrix.html\n",
    "\n",
    "    \"\"\"\n",
    "\n",
    "    accuracy = np.trace(cm) / float(np.sum(cm))\n",
    "    misclass = 1 - accuracy\n",
    "\n",
    "    if cmap is None:\n",
    "        cmap = plt.get_cmap('Blues')\n",
    "\n",
    "    plt.figure(figsize=(8, 6))\n",
    "    plt.imshow(cm, interpolation='nearest', cmap=cmap)\n",
    "    plt.title(title)\n",
    "    plt.colorbar()\n",
    "\n",
    "    if target_names is not None:\n",
    "        tick_marks = np.arange(len(target_names))\n",
    "        plt.xticks(tick_marks, target_names, rotation=45)\n",
    "        plt.yticks(tick_marks, target_names)\n",
    "\n",
    "    if normalize:\n",
    "        cm = cm.astype('float') / cm.sum(axis=1)[:, np.newaxis]\n",
    "\n",
    "\n",
    "    thresh = cm.max() / 1.5 if normalize else cm.max() / 2\n",
    "    for i, j in itertools.product(range(cm.shape[0]), range(cm.shape[1])):\n",
    "        if normalize:\n",
    "            plt.text(j, i, \"{:0.4f}\".format(cm[i, j]),\n",
    "                     horizontalalignment=\"center\",\n",
    "                     color=\"white\" if cm[i, j] > thresh else \"black\")\n",
    "        else:\n",
    "            plt.text(j, i, \"{:,}\".format(cm[i, j]),\n",
    "                     horizontalalignment=\"center\",\n",
    "                     color=\"white\" if cm[i, j] > thresh else \"black\")\n",
    "\n",
    "\n",
    "    plt.tight_layout()\n",
    "    plt.ylabel('True label')\n",
    "    plt.xlabel('Predicted label\\naccuracy={:0.4f}; misclass={:0.4f}'.format(accuracy, misclass))\n",
    "    plt.show()"
   ]
  },
  {
   "cell_type": "code",
   "execution_count": 97,
   "metadata": {},
   "outputs": [
    {
     "data": {
      "image/png": "[encoded data removed]",
      "text/plain": [
       "<Figure size 576x432 with 2 Axes>"
      ]
     },
     "metadata": {
      "needs_background": "light"
     },
     "output_type": "display_data"
    }
   ],
   "source": [
    "plot_confusion_matrix(confusion, [i for i in range(10)], \"Confusion Matrix\")"
   ]
  },
  {
   "cell_type": "markdown",
   "metadata": {},
   "source": [
    "## 3. Additional Comments"
   ]
  },
  {
   "cell_type": "markdown",
   "metadata": {},
   "source": [
    "- It would be interesting to check many more possible congurations of hyperparameters for the neural network it one was indeed looking for the highest possible accuracy\n",
    "\n",
    "- Network1 is as close to the supplied model as I could do. The difference is that the algorithm is not the same as the one used on keras is not available o sci-kit learn and I cannot do different activation functions for different layers\n",
    "\n",
    "- If you change the value of the variable class_size to something between 10 and 100 and the 5-fold to a 2-fold, you can run the code in rather quickly. In the very small samples, you will find that the first network has much better accuracy than the other two, unlike with larger sets, where the results were close.\n",
    "\n",
    "- I cannot exaplain the two portions on the cross entropy graph above wehre there is increase\n",
    "\n",
    "- Printing the confusion matrix with text seems more readable to me than the plot, although I believe the plot I found on SO is very good. Maybe for a larger number of classes, an alternative plot is required."
   ]
  }
 ],
 "metadata": {
  "kernelspec": {
   "display_name": "Python 3",
   "language": "python",
   "name": "python3"
  },
  "language_info": {
   "codemirror_mode": {
    "name": "ipython",
    "version": 3
   },
   "file_extension": ".py",
   "mimetype": "text/x-python",
   "name": "python",
   "nbconvert_exporter": "python",
   "pygments_lexer": "ipython3",
   "version": "3.6.9"
  }
 },
 "nbformat": 4,
 "nbformat_minor": 2
}
