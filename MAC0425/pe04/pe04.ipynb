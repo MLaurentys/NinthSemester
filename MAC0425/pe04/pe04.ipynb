{
 "cells": [
  {
   "cell_type": "markdown",
   "metadata": {},
   "source": [
    "\"Este trabalho utilizou dados disponibilizados pelo repositório COVID-19 Data Sharing/BR, disponível em: “ https://repositoriodatasharingfapesp.uspdigital.usp.br/\".\n",
    "\n"
   ]
  },
  {
   "cell_type": "code",
   "execution_count": 1,
   "metadata": {},
   "outputs": [],
   "source": [
    "import numpy as np\n",
    "import pandas as pd"
   ]
  },
  {
   "cell_type": "code",
   "execution_count": 2,
   "metadata": {},
   "outputs": [],
   "source": [
    "data_sources =\\\n",
    "[\n",
    "   (\"dados/initial/einstein_e.csv\", ','),\n",
    "   (\"dados/initial/fleury_e.csv\", ','),\n",
    "   (\"dados/initial/hsl_e.csv\", ','),\n",
    "   (\"dados/added/einstein/dataset_exames.csv\", '|'),\n",
    "   (\"dados/added/hsl/hsl_lab_result_1.csv\", '|'),\n",
    "   (\"dados/added/fleury/dataset_exames.csv\", '|'),\n",
    "]\n",
    "\n",
    "dfs_raw = [pd.read_csv(df_file, separator, encoding=\"latin-1\") for df_file, separator in data_sources]"
   ]
  },
  {
   "cell_type": "code",
   "execution_count": 6,
   "metadata": {},
   "outputs": [
    {
     "name": "stdout",
     "output_type": "stream",
     "text": [
      "['id_paciente', 'dt_coleta', 'de_origem', 'de_exame', 'de_analito', 'de_resultado', 'cd_unidade', 'de_valor_referencia']\n",
      "['ID_PACIENTE', 'DT_COLETA', 'DE_ORIGEM', 'DE_EXAME', 'DE_ANALITO', 'DE_RESULTADO', 'CD_UNIDADE', 'DE_VALOR_REFERENCIA']\n",
      "['Ã¯Â»Â¿ID_PACIENTE', 'ID_ATENDIMENTO', 'DT_COLETA', 'DE_ORIGEM', 'DE_EXAME', 'DE_ANALITO', 'DE_RESULTADO', 'CD_UNIDADE', 'DE_VALOR_REFERENCIA']\n",
      "['id_paciente', 'dt_coleta', 'de_origem', 'de_exame', 'de_analito', 'de_resultado', 'cd_unidade', 'de_valor_referencia']\n",
      "['ID_PACIENTE', 'ID_ATENDIMENTO', 'DT_COLETA', 'DE_ORIGEM', 'DE_EXAME', 'DE_ANALITO', 'DE_RESULTADO', 'CD_UNIDADE', 'DE_VALOR_REFERENCIA']\n",
      "['ID_PACIENTE', 'DT_COLETA', 'DE_ORIGEM', 'DE_EXAME', 'DE_ANALITO', 'DE_RESULTADO', 'CD_UNIDADE', 'DE_VALOR_REFERENCIA']\n"
     ]
    }
   ],
   "source": [
    "for df in dfs_raw:\n",
    "    print(list(df.columns))"
   ]
  },
  {
   "cell_type": "code",
   "execution_count": 26,
   "metadata": {},
   "outputs": [
    {
     "data": {
      "text/plain": [
       "100"
      ]
     },
     "execution_count": 26,
     "metadata": {},
     "output_type": "execute_result"
    }
   ],
   "source": [
    "len(dfini_f_exames_raw[\"ID_PACIENTE\"].unique())"
   ]
  },
  {
   "cell_type": "code",
   "execution_count": 27,
   "metadata": {},
   "outputs": [
    {
     "name": "stdout",
     "output_type": "stream",
     "text": [
      "25 HIDROXI-VITAMINA D: soro\n",
      "ACIDO ASCORBICO: plasma\n",
      "ACIDO FOLICO: soro\n",
      "ACIDO URICO: soro\n",
      "ALBUMINA: soro\n",
      "ALBUMINURIA: amostra isolada\n",
      "ALFA-1 GLICOPROTEINA ACIDA: soro\n",
      "ALFA-FETOPROTEINA: soro\n",
      "AMILASE: soro\n",
      "ANDROSTENEDIONA: soro\n",
      "ANTICORPO ANTI-RECEPTOR DE TSH (TRAB): soro\n",
      "ANTICORPO CONTRA O ANTIGENO DO CORE DO VIRUS DA HEPATITE B: soro\n",
      "ANTICORPOS ANTI-PEROXIDASE TIROIDIANA: soro\n",
      "ANTICORPOS ANTI-TIROGLOBULINA: soro\n",
      "ANTICORPOS ANTI-VIRUS DA HEPATITE C (Anti-HCV): soro\n",
      "ANTICORPOS DA CLASSE IgA ANTI-TRANSGLUTAMINASE TECIDUAL: soro\n",
      "ANTICORPOS IRREGULARES ANTI-ERITROCITARIOS: soro\n",
      "ANTICORPOS TOTAIS CONTRA O VIRUS DA HEPATITE A (Anti-VHA Total)\n",
      "ANTIGENO CARCINOEMBRIONICO (CEA): soro\n",
      "ANTIGENO DE SUPERFICIE DA HEPATITE B: soro\n",
      "ANTIGENO PROSTATICO ESPECIFICO(PSA): soro\n",
      "ANTISTREPTOLISINA O (ASLO): ANTICORPOS: soro\n",
      "APOLIPOPROTEINA A-1: soro\n",
      "APOLIPOPROTEINA B: soro\n",
      "BILIRRUBINAS: soro\n",
      "CA 15-3: soro\n",
      "CA 19-9: soro\n",
      "CA 72-4: soro\n",
      "CA-125: soro\n",
      "CALCIO IONIZADO: soro\n",
      "CALCIO: soro\n",
      "CHLAMYDIA TRACHOMATIS: ANTICORPOS IgG: soro\n",
      "CHLAMYDIA TRACHOMATIS: ANTICORPOS IgM: soro\n",
      "CITOMEGALOVIRUS: ANTICORPOS IgG: soro\n",
      "CITOMEGALOVIRUS: ANTICORPOS IgM: soro\n",
      "CKMB massa: plasma\n",
      "CLORO: soro\n",
      "COLESTEROL TOTAL: soro\n",
      "CORTISOL: soro\n",
      "COVID19: ANTICORPOS IgA: soro\n",
      "COVID19: ANTICORPOS IgG: soro\n",
      "COVID19: ANTICORPOS IgM: soro\n",
      "CREATININA: amostra isolada na urina\n",
      "CREATININA: soro\n",
      "CREATINOQUINASE TOTAL (CK): soro\n",
      "DEHIDROEPIANDROSTERONA: soro\n",
      "DESIDROGENASE LACTICA (DHL): soro\n",
      "DETECÇÃO DE CHLAMYDIA TRACHOMATIS POR MÉTODO MOLECULAR\n",
      "DETECÇÃO DE NEISSERIA GONORRHOEAE POR PCR\n",
      "DETERMINAÇÃO DO SEXO FETAL PELA ANÁLISE DO SANGUE MATERNO\n",
      "DIHIDROTESTOSTERONA (DHT): soro\n",
      "ELETROFORESE DAS PROTEÍNAS SÉRICAS\n",
      "ENDOMISIO: ANTICORPOS IgA: soro\n",
      "ESTRADIOL: soro\n",
      "ESTRONA (E1): soro\n",
      "FATOR REUMATOIDE: soro\n",
      "FERRITINA: soro\n",
      "FERRO: soro\n",
      "FIBRINOGENIO: plasma\n",
      "FOSFATASE ALCALINA (ALP): soro\n",
      "FOSFORO INORGANICO: soro\n",
      "GAMA GLUTAMIL TRANSFERASE (GAMA-GT): soro\n",
      "GLICOSE: plasma\n",
      "GLOBULINA LIGADORA DA TIROXINA (TBG): soro\n",
      "GLOBULINA LIGADORA DE HORMONIOS SEXUAIS(SHBG): soro\n",
      "GONADOTROFINA CORIONICA HUMANA (HCG): soro\n",
      "HDL-COLESTEROL: soro\n",
      "HEMOGLOBINA GLICADA (A1C): sangue total\n",
      "HEMOGRAMA: sangue total\n",
      "HEMOSSEDIMENTACAO: sangue total\n",
      "HEPATITE B: ANTICORPO CONTRA ANTIGENO DE SUPERFICIE: soro (Anti-HBs)\n",
      "HIV1/HIV2: ANTICORPOS E ANTÍGENO: soro\n",
      "HOMOCISTEINA: plasma\n",
      "HORMONIO ADRENOCORTICOTROFICO (ACTH): plasma\n",
      "HORMONIO FOLICULO ESTIMULANTE (FSH): soro\n",
      "HORMONIO LUTEINIZANTE (LH): soro\n",
      "HORMONIO TIROESTIMULANTE (TSH): soro\n",
      "HTLV1/2: ANTICORPOS: soro\n",
      "IGE ESPECIFICO: F76 - ALFA-LACTOALBUMINA: soro\n",
      "IGE ESPECIFICO: F77 - BETA-LACTOGLOBULINA: soro\n",
      "IGE ESPECIFICO: F79 - GLUTEN: soro\n",
      "IGF-1 (SOMATOMEDINA C): soro\n",
      "IGFBP-3 (PROTEINA LIGADORA-3 DO FATOR DE CRESCIMENTO SIMILE A INSULINA)\n",
      "INSULINA: soro\n",
      "IgA: IMUNOGLOBULINA: soro\n",
      "IgE: IMUNOGLOBULINA: soro\n",
      "IgG: IMUNOGLOBULINA: soro\n",
      "IgM: IMUNOGLOBULINA: soro\n",
      "LDL-COLESTEROL: soro\n",
      "LIPASE: soro\n",
      "MAGNESIO: soro\n",
      "NOVO CORONAVÍRUS 2019 (SARS-CoV-2): DETECÇÃO POR PCR\n",
      "NÃO-HDL-COLESTEROL: soro\n",
      "PARATORMONIO (PTH): MOLECULA INTACTA: soro\n",
      "PESQUISA DO PAPILOMAVÍRUS HUMANO (HPV) POR TÉCNICA MOLECULAR\n",
      "PESQUISA TRICOMONAS\n",
      "POTASSIO: soro\n",
      "PROGESTERONA: soro\n",
      "PROLACTINA (PRL): soro\n",
      "PROTEINA C-REATIVA: soro\n",
      "PROTEINA TOTAL E FRACOES: soro\n",
      "PROTEINA TOTAL: soro\n",
      "RUBEOLA: ANTICORPOS IgG: soro\n",
      "RUBEOLA: ANTICORPOS IgM: soro\n",
      "SARS-COV-2: ANTICORPOS IgG: soro\n",
      "SATURAÇÃO DA TRANSFERRINA: soro\n",
      "SIFILIS: ANTICORPOS CONTRA ANTIGENO NAO TREPONEMICO(CARDIOLIPINA): soro\n",
      "SIFILIS: ANTICORPOS TOTAIS ESPECIFICOS ANTI-T.PALLIDUM: soro\n",
      "SODIO: soro\n",
      "SUBUNIDADE B LIVRE DA GONADOTROFINA CORIÔNICA HUMANA: soro\n",
      "SULFATO DE DEHIDROEPIANDROSTERONA (DHEA-S): soro\n",
      "TEMPO DE PROTROMBINA: plasma\n",
      "TEMPO DE TROMBOPLASTINA PARCIAL ATIVADA: plasma\n",
      "TESTE TUBERCULINICO COM PPD\n",
      "TESTOSTERONA LIVRE.soro\n",
      "TESTOSTERONA LIVRE: soro\n",
      "TESTOSTERONA: soro\n",
      "TIROGLOBULINA: soro\n",
      "TIROXINA (T4) LIVRE: soro\n",
      "TIROXINA (T4): soro\n",
      "TOXOPLASMA: ANTICORPOS IgG: soro\n",
      "TOXOPLASMA: ANTICORPOS IgM: soro\n",
      "TRANSAMINASE GLUTAMICO-OXALACETICA (TGO)\n",
      "TRANSAMINASE GLUTAMICO-PIRUVICA (TGP)\n",
      "TRIGLICERIDES: soro\n",
      "TRIIODOTIRONINA (T3) LIVRE: soro\n",
      "TRIIODOTIRONINA (T3): soro\n",
      "UREIA: soro\n",
      "URINA TIPO I - JATO MEDIO\n",
      "VARICELLA-ZOSTER VIRUS: ANTICORPOS IgG: soro\n",
      "VITAMINA A (retinol): soro\n",
      "VITAMINA B-12: soro\n",
      "VLDL-COLESTEROL: soro\n",
      "ZIKA VÍRUS: PESQUISA DE ANTICORPOS DA CLASSE IGM: soro\n",
      "ZINCO: plasma\n"
     ]
    }
   ],
   "source": [
    "l = [str(ex) for ex in dfini_f_exames_raw[\"DE_EXAME\"].unique().copy()]\n",
    "l = sorted(l)\n",
    "for ex in l:\n",
    "    print(ex)\n"
   ]
  }
 ],
 "metadata": {
  "kernelspec": {
   "display_name": "Python 3",
   "language": "python",
   "name": "python3"
  },
  "language_info": {
   "codemirror_mode": {
    "name": "ipython",
    "version": 3
   },
   "file_extension": ".py",
   "mimetype": "text/x-python",
   "name": "python",
   "nbconvert_exporter": "python",
   "pygments_lexer": "ipython3",
   "version": "3.6.9"
  }
 },
 "nbformat": 4,
 "nbformat_minor": 2
}
