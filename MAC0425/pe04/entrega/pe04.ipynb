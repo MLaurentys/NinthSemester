{
 "cells": [
  {
   "cell_type": "markdown",
   "metadata": {},
   "source": [
    "\"Este trabalho utilizou dados disponibilizados pelo repositório COVID-19 Data Sharing/BR, disponível em: “ https://repositoriodatasharingfapesp.uspdigital.usp.br/\".\n",
    "\n"
   ]
  },
  {
   "cell_type": "markdown",
   "metadata": {},
   "source": [
    "# Pre-processing"
   ]
  },
  {
   "cell_type": "code",
   "execution_count": 198,
   "metadata": {},
   "outputs": [],
   "source": [
    "import numpy as np\n",
    "import pandas as pd"
   ]
  },
  {
   "cell_type": "code",
   "execution_count": 199,
   "metadata": {},
   "outputs": [],
   "source": [
    "data_sources =\\\n",
    "[\n",
    "   (\"dados/raw/added/einstein/dataset_exames.csv\", '|'),\n",
    "   (\"dados/raw/added/hsl/hsl_lab_result_1.csv\", '|'),\n",
    "   (\"dados/raw/added/fleury/dataset_exames.csv\", '|'),\n",
    "]\n",
    "\n",
    "dfs_raw = [pd.read_csv(df_file, separator, encoding=\"latin-1\") for df_file, separator in data_sources]"
   ]
  },
  {
   "cell_type": "code",
   "execution_count": 200,
   "metadata": {},
   "outputs": [
    {
     "name": "stdout",
     "output_type": "stream",
     "text": [
      "(1853695, 8)\n",
      "(371357, 9)\n",
      "(2496591, 8)\n"
     ]
    }
   ],
   "source": [
    "# Checks largest dataset\n",
    "for df in dfs_raw:\n",
    "    print(df.shape)"
   ]
  },
  {
   "cell_type": "code",
   "execution_count": 201,
   "metadata": {},
   "outputs": [],
   "source": [
    "df_exame_raw = pd.read_csv(\"dados/raw/added/fleury/dataset_exames.csv\", '|', encoding='latin-1')\n",
    "df_paciente_raw = pd.read_csv(\"dados/raw/added/fleury/dataset_pacientes.csv\", '|', encoding='latin-1')"
   ]
  },
  {
   "cell_type": "code",
   "execution_count": 202,
   "metadata": {},
   "outputs": [
    {
     "name": "stdout",
     "output_type": "stream",
     "text": [
      "Shape before removing duplicates:\n",
      "(2496591, 8)\n",
      "(129596, 7)\n",
      "Shape after removing duplicates:\n",
      "(2494613, 8)\n",
      "(129596, 7)\n"
     ]
    }
   ],
   "source": [
    "print(\"Shape before removing duplicates:\")\n",
    "print(df_exame_raw.shape)\n",
    "print(df_paciente_raw.shape)\n",
    "for df in [df_exame_raw, df_paciente_raw]:\n",
    "    df.drop_duplicates(inplace=True)\n",
    "print(\"Shape after removing duplicates:\")\n",
    "print(df_exame_raw.shape)\n",
    "print(df_paciente_raw.shape)"
   ]
  },
  {
   "cell_type": "code",
   "execution_count": 203,
   "metadata": {},
   "outputs": [],
   "source": [
    "def map_values(x):\n",
    "    x = x.upper()\n",
    "    if x == \"NÃO DETECTADO\" or x == \"NÃO DETECTADO (NEGATIVO)\" or x == \"NÃO REAGENTE\" or x == \"NEGATIVA\":\n",
    "        return '0'\n",
    "    elif x == \"DETECTADO\" or x == \"DETECTADO (POSITIVO)\" or x == \"REAGENTE\"  or x == \"POSITIVA\":\n",
    "        return '1'\n",
    "    return x\n",
    "\n",
    "df_exame_raw.DE_RESULTADO = df_exame_raw.DE_RESULTADO.apply(lambda x: map_values(x))"
   ]
  },
  {
   "cell_type": "code",
   "execution_count": 204,
   "metadata": {},
   "outputs": [],
   "source": [
    "def is_real(x):\n",
    "    try:\n",
    "        a = float(x)\n",
    "    except:\n",
    "        return False\n",
    "    return True\n",
    "\n",
    "df_exame_raw.DE_RESULTADO = df_exame_raw.DE_RESULTADO.str.replace(\",\", \".\")\n",
    "df_exame_raw = df_exame_raw[df_exame_raw['DE_RESULTADO'].apply(lambda x: is_real(x))]"
   ]
  },
  {
   "cell_type": "code",
   "execution_count": 205,
   "metadata": {},
   "outputs": [],
   "source": [
    "# print(' ------ Before Removal ------')\n",
    "# print(\"---- Paciente ----\")\n",
    "# for col in df_paciente_raw.columns: print(col)\n",
    "# print(\"---- Exame ----\")\n",
    "# for col in df_exame_raw.columns: print(col)\n",
    "    \n",
    "del df_paciente_raw['CD_PAIS']\n",
    "del df_paciente_raw['CD_UF']\n",
    "del df_paciente_raw['CD_MUNICIPIO']\n",
    "del df_paciente_raw['CD_CEP']\n",
    "del df_exame_raw['DE_ORIGEM']\n",
    "\n",
    "# print(' ------ After Removal ------')\n",
    "# print(\"---- Paciente ----\")\n",
    "# for col in df_paciente_raw.columns: print(col)\n",
    "# print(\"---- Exame ----\")\n",
    "# for col in df_exame_raw.columns: print(col)"
   ]
  },
  {
   "cell_type": "code",
   "execution_count": 206,
   "metadata": {
    "scrolled": false
   },
   "outputs": [
    {
     "name": "stdout",
     "output_type": "stream",
     "text": [
      "(2060853, 7)\n",
      "ID_PACIENTE\n",
      "DT_COLETA\n",
      "DE_EXAME\n",
      "DE_ANALITO\n",
      "DE_RESULTADO\n",
      "CD_UNIDADE\n",
      "DE_VALOR_REFERENCIA\n"
     ]
    }
   ],
   "source": [
    "# Filters out meaningless exams\n",
    "LIMIAR = 0.98\n",
    "amt_people = df_paciente_raw.shape[0]\n",
    "df_exame_aux = df_exame_raw\\\n",
    "                .groupby(['DE_EXAME','DE_ANALITO'])\\\n",
    "                .filter(lambda x : len(x)>((1-LIMIAR)*amt_people))\n",
    "print(df_exame_aux.shape)\n",
    "for col in df_exame_aux.columns: print(col)"
   ]
  },
  {
   "cell_type": "code",
   "execution_count": 207,
   "metadata": {},
   "outputs": [],
   "source": [
    "# Generates auxiliar csv\n",
    "exam_count = df_exame_aux.copy()\n",
    "exam_count = exam_count\\\n",
    "                .groupby(['DE_EXAME','DE_ANALITO', 'DE_RESULTADO'])\\\n",
    "                .size()\\\n",
    "                .reset_index(name=\"COUNT\")\n",
    "exam_count = exam_count.sort_values(by=\"COUNT\")\n",
    "exam_count.reset_index()[['DE_EXAME','DE_ANALITO', 'DE_RESULTADO', 'COUNT']].to_csv('teste.csv')"
   ]
  },
  {
   "cell_type": "code",
   "execution_count": 1,
   "metadata": {},
   "outputs": [
    {
     "ename": "NameError",
     "evalue": "name 'df_paciente_raw' is not defined",
     "output_type": "error",
     "traceback": [
      "\u001b[0;31m---------------------------------------------------------------------------\u001b[0m",
      "\u001b[0;31mNameError\u001b[0m                                 Traceback (most recent call last)",
      "\u001b[0;32m<ipython-input-1-62768af06c1f>\u001b[0m in \u001b[0;36m<module>\u001b[0;34m\u001b[0m\n\u001b[0;32m----> 1\u001b[0;31m \u001b[0mdf\u001b[0m \u001b[0;34m=\u001b[0m \u001b[0mdf_paciente_raw\u001b[0m\u001b[0;34m.\u001b[0m\u001b[0mmerge\u001b[0m\u001b[0;34m(\u001b[0m\u001b[0mdf_exame_aux\u001b[0m\u001b[0;34m,\u001b[0m \u001b[0mon\u001b[0m\u001b[0;34m=\u001b[0m\u001b[0;34m'ID_PACIENTE'\u001b[0m\u001b[0;34m,\u001b[0m \u001b[0mhow\u001b[0m\u001b[0;34m=\u001b[0m\u001b[0;34m'inner'\u001b[0m\u001b[0;34m)\u001b[0m\u001b[0;34m\u001b[0m\u001b[0;34m\u001b[0m\u001b[0m\n\u001b[0m\u001b[1;32m      2\u001b[0m \u001b[0mdf\u001b[0m\u001b[0;34m.\u001b[0m\u001b[0mto_csv\u001b[0m\u001b[0;34m(\u001b[0m\u001b[0;34m'training_data'\u001b[0m\u001b[0;34m)\u001b[0m\u001b[0;34m\u001b[0m\u001b[0;34m\u001b[0m\u001b[0m\n\u001b[1;32m      3\u001b[0m \u001b[0mprint\u001b[0m\u001b[0;34m(\u001b[0m\u001b[0mdf\u001b[0m\u001b[0;34m.\u001b[0m\u001b[0mshape\u001b[0m\u001b[0;34m)\u001b[0m\u001b[0;34m\u001b[0m\u001b[0;34m\u001b[0m\u001b[0m\n\u001b[1;32m      4\u001b[0m \u001b[0;32mfor\u001b[0m \u001b[0mcol\u001b[0m \u001b[0;32min\u001b[0m \u001b[0mdf\u001b[0m\u001b[0;34m.\u001b[0m\u001b[0mcolumns\u001b[0m\u001b[0;34m:\u001b[0m \u001b[0mprint\u001b[0m\u001b[0;34m(\u001b[0m\u001b[0mcol\u001b[0m\u001b[0;34m)\u001b[0m\u001b[0;34m\u001b[0m\u001b[0;34m\u001b[0m\u001b[0m\n",
      "\u001b[0;31mNameError\u001b[0m: name 'df_paciente_raw' is not defined"
     ]
    }
   ],
   "source": [
    "df = df_paciente_raw.merge(df_exame_aux, on='ID_PACIENTE', how='inner')\n",
    "df.to_csv('training_data')\n",
    "print(df.shape)\n",
    "for col in df.columns: print(col)"
   ]
  },
  {
   "cell_type": "markdown",
   "metadata": {},
   "source": [
    "Neural Network"
   ]
  },
  {
   "cell_type": "code",
   "execution_count": 209,
   "metadata": {},
   "outputs": [],
   "source": [
    "from sklearn.model_selection import train_test_split\n",
    "\n",
    "def to_features (data):\n",
    "    return [np.concatenate([row for row in sample]) for sample in data]\n",
    "\n",
    "np.random.seed(56789)\n",
    "def shuffle(X, y):\n",
    "    # input and output must be shuffled equally\n",
    "    perm = np.random.permutation(len(X))\n",
    "    return X[perm], y[perm]"
   ]
  },
  {
   "cell_type": "code",
   "execution_count": 211,
   "metadata": {},
   "outputs": [],
   "source": [
    "#\n",
    "# Modelates data to input into NN\n",
    "#\n",
    "\n",
    "PCR_df = df.copy()\n",
    "IGG_df = df.copy()\n",
    "IGM_df = df.copy()\n",
    "\n",
    "reference = {\"PCR\": [(\"NOVO CORONAVÍRUS 2019 (SARS-CoV-2), DETECÇÃO POR PCR\", \"Covid 19, Detecção por PCR\")],\n",
    "             \"IGM\": \"a\"}"
   ]
  }
 ],
 "metadata": {
  "kernelspec": {
   "display_name": "Python 3",
   "language": "python",
   "name": "python3"
  },
  "language_info": {
   "codemirror_mode": {
    "name": "ipython",
    "version": 3
   },
   "file_extension": ".py",
   "mimetype": "text/x-python",
   "name": "python",
   "nbconvert_exporter": "python",
   "pygments_lexer": "ipython3",
   "version": "3.6.9"
  }
 },
 "nbformat": 4,
 "nbformat_minor": 2
}
